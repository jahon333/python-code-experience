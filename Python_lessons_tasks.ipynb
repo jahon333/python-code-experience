{
  "cells": [
    {
      "cell_type": "markdown",
      "metadata": {
        "id": "view-in-github",
        "colab_type": "text"
      },
      "source": [
        "<a href=\"https://colab.research.google.com/github/jahon333/python-code-experience/blob/main/Python_lessons_tasks.ipynb\" target=\"_parent\"><img src=\"https://colab.research.google.com/assets/colab-badge.svg\" alt=\"Open In Colab\"/></a>"
      ]
    },
    {
      "cell_type": "code",
      "execution_count": null,
      "metadata": {
        "colab": {
          "base_uri": "https://localhost:8080/"
        },
        "id": "3_7IAXSqqg11",
        "outputId": "6805e31e-ea5e-475b-d388-5ca4249110f1"
      },
      "outputs": [
        {
          "name": "stdout",
          "output_type": "stream",
          "text": [
            "Salom AKBAR Bugun choyxona bormi?\n",
            "IZZAT choyxonaga boramizmi?\n"
          ]
        }
      ],
      "source": [
        "ism = ['akbar','Izzat','Mahmud']\n",
        "print(\"Salom\",ism[0].upper(),\"Bugun choyxona bormi?\")\n",
        "print(ism[1].upper(),\"choyxonaga boramizmi?\")"
      ]
    },
    {
      "cell_type": "code",
      "execution_count": null,
      "metadata": {
        "colab": {
          "base_uri": "https://localhost:8080/"
        },
        "id": "CUJ3ToGmsNls",
        "outputId": "ac139154-4fe0-4e09-c17d-797e886f7c20"
      },
      "outputs": [
        {
          "name": "stdout",
          "output_type": "stream",
          "text": [
            "[1, 14, 0.56, -12, 3, -16.5]\n",
            "[12, 1, 14, -0.31, 0.56, -12, 3, -16.5]\n",
            "[12, 1, -0.31, 0.56, 3, -16.5]\n",
            "[12, 1, 3, -16.5]\n"
          ]
        }
      ],
      "source": [
        "sonlar = [1,14,0.56,-12]\n",
        "sonlar.append(3)\n",
        "sonlar.append(-16.5)\n",
        "print(sonlar)\n",
        "sonlar.insert(0,12)\n",
        "sonlar.insert(3,-0.31)\n",
        "print(sonlar)\n",
        "del sonlar[2]\n",
        "del sonlar[4]\n",
        "print(sonlar)\n",
        "sonlar.remove(-0.31)\n",
        "sonlar.remove(0.56)\n",
        "print(sonlar)"
      ]
    },
    {
      "cell_type": "code",
      "execution_count": null,
      "metadata": {
        "colab": {
          "base_uri": "https://localhost:8080/"
        },
        "id": "EgrEuCfDwwI0",
        "outputId": "2a173273-af07-4b83-ce96-820a0e4a0371"
      },
      "outputs": [
        {
          "name": "stdout",
          "output_type": "stream",
          "text": [
            "Men Imom Buhoriy bilan korishish\n",
            "Ilon Mask yaxshi inson\n"
          ]
        }
      ],
      "source": [
        "t_shaxslar = ['Imom Buhoriy','Amir Temur' ]\n",
        "z_shaxslar = ['Bill Geyts','Ilon Mask']\n",
        "print(\"Men\",t_shaxslar.pop(0),\"bilan korishish\")\n",
        "print(z_shaxslar.pop(-1),\"yaxshi inson\")"
      ]
    },
    {
      "cell_type": "code",
      "execution_count": null,
      "metadata": {
        "colab": {
          "base_uri": "https://localhost:8080/"
        },
        "id": "tNdanzBkzLN0",
        "outputId": "1943fcf7-9ad5-4873-ce1c-0bf28a83e691"
      },
      "outputs": [
        {
          "name": "stdout",
          "output_type": "stream",
          "text": [
            "['美丽', '赵明', '胡总', '阿明', '哈地插']\n",
            "['美丽', '胡总', '哈地插']\n",
            "['美丽', '胡总', '努力', '哈地插', '阿里']\n",
            "['阿里']\n"
          ]
        }
      ],
      "source": [
        "friends= []\n",
        "friends.append('美丽')\n",
        "friends.append('赵明')\n",
        "friends.append('胡总')\n",
        "friends.append('阿明')\n",
        "friends.append('哈地插')\n",
        "print(friends)\n",
        "friends.remove(\"赵明\")\n",
        "friends.remove(\"阿明\")\n",
        "print(friends)\n",
        "friends.append(\"阿里\")\n",
        "friends.insert(2,\"努力\")\n",
        "print(friends)\n",
        "mehmonlar = []\n",
        "mehmonlar.append(friends.pop())\n",
        "print(mehmonlar)"
      ]
    },
    {
      "cell_type": "code",
      "execution_count": null,
      "metadata": {
        "colab": {
          "base_uri": "https://localhost:8080/"
        },
        "id": "whnm9ne4MrgU",
        "outputId": "6817a174-d2a4-4db2-b766-b6a9969fb518"
      },
      "outputs": [
        {
          "name": "stdout",
          "output_type": "stream",
          "text": [
            "['usa', 'germany', 'china', 'uzbekistan', 'hong kong', 'macau']\n",
            "Elementlar soni: 6\n",
            "Tartiblangan royxat: ['china', 'germany', 'hong kong', 'macau', 'usa', 'uzbekistan']\n",
            "Teskari tartinlamgan: ['uzbekistan', 'usa', 'macau', 'hong kong', 'germany', 'china']\n",
            "['usa', 'germany', 'china', 'uzbekistan', 'hong kong', 'macau']\n",
            "['macau', 'hong kong', 'uzbekistan', 'china', 'germany', 'usa']\n"
          ]
        }
      ],
      "source": [
        "countrys = ['usa','germany','china','uzbekistan','hong kong','macau']\n",
        "print(countrys)\n",
        "print(\"Elementlar soni:\",len(countrys))\n",
        "print(\"Tartiblangan royxat:\",sorted(countrys))\n",
        "print('Teskari tartinlamgan:',sorted(countrys,reverse=True))\n",
        "print(countrys)\n",
        "countrys.reverse()\n",
        "print(countrys)"
      ]
    },
    {
      "cell_type": "code",
      "execution_count": null,
      "metadata": {
        "colab": {
          "base_uri": "https://localhost:8080/"
        },
        "id": "SXZCxykkVRLU",
        "outputId": "8264695a-d2e7-4315-ef84-e91267fe9586"
      },
      "outputs": [
        {
          "name": "stdout",
          "output_type": "stream",
          "text": [
            "['china', 'germany', 'hong kong', 'macau', 'usa', 'uzbekistan']\n",
            "['uzbekistan', 'usa', 'macau', 'hong kong', 'germany', 'china']\n"
          ]
        }
      ],
      "source": [
        "countrys = ['usa','germany','china','uzbekistan','hong kong','macau']\n",
        "countrys.sort()\n",
        "print(countrys)\n",
        "countrys.sort(reverse=True)\n",
        "print(countrys)"
      ]
    },
    {
      "cell_type": "code",
      "execution_count": null,
      "metadata": {
        "colab": {
          "base_uri": "https://localhost:8080/"
        },
        "id": "VNSi166mam9l",
        "outputId": "cd8c1bd3-2a1c-42dc-ec4c-8db14df30ee3"
      },
      "outputs": [
        {
          "name": "stdout",
          "output_type": "stream",
          "text": [
            "714661\n",
            "1201\n",
            "120\n",
            "1082\n",
            "[120, 121, 122, 123, 124, 125, 126, 127, 128, 129, 130, 131, 132, 133, 134, 135, 136, 137, 138, 139]\n",
            "[1182, 1183, 1184, 1185, 1186, 1187, 1188, 1189, 1190, 1191, 1192, 1193, 1194, 1195, 1196, 1197, 1198, 1199, 1200, 1201]\n",
            "[650, 651, 652, 653, 654, 655, 656, 657, 658, 659, 660, 661, 662, 663, 664, 665, 666, 667, 668, 669]\n",
            "1081\n",
            "1082\n",
            "[120, 121, 122, 123, 124, 125, 126, 127, 128, 129, 130, 131, 132, 133, 134, 135, 136, 137, 138, 139]\n",
            "[1182, 1183, 1184, 1185, 1186, 1187, 1188, 1189, 1190, 1191, 1192, 1193, 1194, 1195, 1196, 1197, 1198, 1199, 1200, 1201]\n",
            "[650, 651, 652, 653, 654, 655, 656, 657, 658, 659, 660, 661, 662, 663, 664, 665, 666, 667, 668, 669]\n"
          ]
        }
      ],
      "source": [
        "juft_sonlar = list(range(120,1202))\n",
        "print(sum(juft_sonlar))\n",
        "print(max(juft_sonlar))\n",
        "print(min(juft_sonlar))\n",
        "print(len(juft_sonlar))\n",
        "print(juft_sonlar[0:20])\n",
        "print(juft_sonlar[-20:])\n",
        "print(juft_sonlar[530:550])\n",
        "print(max(juft_sonlar)-min(juft_sonlar))\n",
        "print(len(juft_sonlar))\n",
        "print(juft_sonlar[0:20])\n",
        "print(juft_sonlar[-20:])\n",
        "print(juft_sonlar[530:550])"
      ]
    },
    {
      "cell_type": "code",
      "execution_count": null,
      "metadata": {
        "colab": {
          "base_uri": "https://localhost:8080/"
        },
        "id": "8TsCLFrodt11",
        "outputId": "f26532ec-29bc-477b-f3ea-be493141f9a5"
      },
      "outputs": [
        {
          "name": "stdout",
          "output_type": "stream",
          "text": [
            "['osh', 'palov', 'lagmon', 'beshbarmoq', 'manti']\n",
            "['osh', 'lagmon', 'beshbarmoq']\n",
            "['osh', 'oy', 'lagmon', 'beshbarmoq', 'non']\n",
            "['osh', 'palov', 'lagmon', 'beshbarmoq', 'manti']\n",
            "('osh', 'oy', 'lagmon', 'beshbarmoq', 'non')\n",
            "['osh', 'oy', 'lagmon', 'beshbarmoq', 'non']\n",
            "['qaymoq va non', 'oy', 'lagmon', 'beshbarmoq', 'non']\n"
          ]
        }
      ],
      "source": [
        "taomlar = ['osh','palov','lagmon','beshbarmoq','manti']\n",
        "nonushta = taomlar[:]\n",
        "print(nonushta)\n",
        "nonushta.remove('palov')\n",
        "nonushta.remove('manti')\n",
        "print(nonushta)\n",
        "nonushta.append('non')\n",
        "nonushta.insert(1,'oy')\n",
        "print(nonushta)\n",
        "print(taomlar)\n",
        "nonushta = tuple(nonushta)\n",
        "print(nonushta)\n",
        "nonushta = list(nonushta)\n",
        "print(nonushta)\n",
        "nonushta[0] = 'qaymoq va non'\n",
        "print(nonushta)"
      ]
    },
    {
      "cell_type": "code",
      "execution_count": null,
      "metadata": {
        "colab": {
          "background_save": true,
          "base_uri": "https://localhost:8080/",
          "height": 193
        },
        "id": "79q3ghtut_GB",
        "outputId": "27e63630-f404-45c1-80f4-6b3aac41bff5"
      },
      "outputs": [
        {
          "name": "stdout",
          "output_type": "stream",
          "text": [
            "Hurmatli Anvar,Sizni korib turganimizdan mamnunmiz!\n",
            "Hurmatli Sadulla,Sizni korib turganimizdan mamnunmiz!\n",
            "Hurmatli Temur,Sizni korib turganimizdan mamnunmiz!\n",
            "Hurmatli Javlon,Sizni korib turganimizdan mamnunmiz!\n",
            "Hurmatli Xadicha,Sizni korib turganimizdan mamnunmiz!\n",
            "Hurmatli Gullola,Sizni korib turganimizdan mamnunmiz!\n"
          ]
        }
      ],
      "source": [
        "ismlar = ['Anvar','Sadulla','Temur','Javlon','Xadicha','Gullila']\n",
        "for ism in ismlar:\n",
        "    print(f'Hurmatli {ism.capitalize()},Sizni koib turganimizdan mamnunmiz!')"
      ]
    },
    {
      "cell_type": "code",
      "source": [
        "liked_cinemas = []\n",
        "print('5ta eng sevimli kinolaringizni kiriting:')\n",
        "for lc in range(5):\n",
        "  liked_cinemas.append(input(f'{lc+1}-kinoni kiriting:'))\n",
        "print(liked_cinemas)"
      ],
      "metadata": {
        "colab": {
          "base_uri": "https://localhost:8080/"
        },
        "id": "TfhiUa0bQpbW",
        "outputId": "d6feb9f4-6e25-47d1-cbcf-969dae70b78e"
      },
      "execution_count": null,
      "outputs": [
        {
          "output_type": "stream",
          "name": "stdout",
          "text": [
            "5ta eng sevimli kinolaringizni kiriting:\n",
            "1-kinoni kiriting:sa\n",
            "2-kinoni kiriting:sd\n",
            "3-kinoni kiriting:ghj\n",
            "4-kinoni kiriting:dfgh\n",
            "5-kinoni kiriting:vghh\n",
            "['sa', 'sd', 'ghj', 'dfgh', 'vghh']\n"
          ]
        }
      ]
    },
    {
      "cell_type": "code",
      "source": [
        "met_people = []\n",
        "print('Bugun nechta bilan korishdingiz:')\n",
        "x = int(input('son kiriting:'))\n",
        "for a in range(x):\n",
        "  met_people.append(input(f'{a+1}-kim bilan korishdingiz:').title())\n",
        "print(met_people)"
      ],
      "metadata": {
        "colab": {
          "base_uri": "https://localhost:8080/"
        },
        "id": "lcML6SI_XyWk",
        "outputId": "2fe882f2-c21a-461f-e1af-dce7d786cb26"
      },
      "execution_count": null,
      "outputs": [
        {
          "output_type": "stream",
          "name": "stdout",
          "text": [
            "Bugun nechta bilan korishdingiz:\n",
            "son kiriting:3\n",
            "1-kim bilan korishdingiz:men\n",
            "2-kim bilan korishdingiz:sam\n",
            "3-kim bilan korishdingiz:das\n",
            "None\n"
          ]
        }
      ]
    },
    {
      "cell_type": "code",
      "source": [
        "cars = ['toyota', 'mazda', 'hyundai', 'gm', 'kia']\n",
        "for car in cars:\n",
        "    if car != 'gm':print(car.title())\n",
        "    else: print(car.upper())"
      ],
      "metadata": {
        "colab": {
          "base_uri": "https://localhost:8080/"
        },
        "id": "H1rQQRSYscj5",
        "outputId": "b9f872d8-b465-4a4c-8e21-57bfc436fc37"
      },
      "execution_count": null,
      "outputs": [
        {
          "output_type": "stream",
          "name": "stdout",
          "text": [
            "Toyota\n",
            "Mazda\n",
            "Hyundai\n",
            "GM\n",
            "Kia\n"
          ]
        }
      ]
    },
    {
      "cell_type": "code",
      "source": [
        "login = input('Loginni kiriting:\\n>>>')\n",
        "if login.lower() == 'admin':\n",
        "    print(\"Xush kelibsiz Admin\")\n",
        "else:print(f\"Xush kelibsiz,{login.title()}!\")"
      ],
      "metadata": {
        "colab": {
          "base_uri": "https://localhost:8080/"
        },
        "id": "YWkZKb-uvJ-G",
        "outputId": "78c82ed9-b7a6-424a-8847-a5a1c45e8313"
      },
      "execution_count": null,
      "outputs": [
        {
          "output_type": "stream",
          "name": "stdout",
          "text": [
            "Loginni kiriting:\n",
            ">>>San\n",
            "Xush kelibsiz,San\n"
          ]
        }
      ]
    },
    {
      "cell_type": "code",
      "source": [
        "son1 = int(input('Birinchi sonni kiriting:\\n>>>'))\n",
        "son2 = int(input('Ikkinchi sonni kiriting:\\n>>>'))\n",
        "if son1 == son2:print('Sonlar teng')"
      ],
      "metadata": {
        "colab": {
          "base_uri": "https://localhost:8080/"
        },
        "id": "noFkktsxxHZ_",
        "outputId": "f00ece91-8018-4273-eba1-5ed3c70cd252"
      },
      "execution_count": null,
      "outputs": [
        {
          "name": "stdout",
          "output_type": "stream",
          "text": [
            "Birinchi sonni kiriting:\n",
            ">>>34\n",
            "Ikkinchi sonni kiriting:\n",
            ">>>78\n"
          ]
        }
      ]
    },
    {
      "cell_type": "code",
      "source": [
        "number = float(input(\"Istalgan son kiriting:\\n>>>\"))\n",
        "if number>0:print('Son musbat')\n",
        "if number ==0:print('Son 0ga teng')\n",
        "if number<0:print('Son manfiy')"
      ],
      "metadata": {
        "colab": {
          "base_uri": "https://localhost:8080/"
        },
        "id": "Lj6T1uhRyIum",
        "outputId": "b80af031-ccf2-4981-baf4-b2ef86d7f4f7"
      },
      "execution_count": null,
      "outputs": [
        {
          "output_type": "stream",
          "name": "stdout",
          "text": [
            "Istalgan son kiriting:\n",
            ">>>-34\n",
            "Son manfiy\n"
          ]
        }
      ]
    },
    {
      "cell_type": "code",
      "source": [
        "juft_son = int(input(\"Juft son kiriting:\\n>>>\"))\n",
        "if juft_son%2 ==0:\n",
        "  print(\"Rahmat\")\n",
        "else:print(\"eh\")"
      ],
      "metadata": {
        "colab": {
          "base_uri": "https://localhost:8080/"
        },
        "id": "UKBN536t9qZT",
        "outputId": "f8339f2c-3e56-4682-e5c1-094aa18d7e21"
      },
      "execution_count": null,
      "outputs": [
        {
          "output_type": "stream",
          "name": "stdout",
          "text": [
            "Juft son kiriting:\n",
            ">>>46\n",
            "Rahmat\n"
          ]
        }
      ]
    },
    {
      "cell_type": "code",
      "source": [
        "yosh = int(input(\"Iltimos,yoshingizni kiriting:\\n>>>\"))\n",
        "if yosh<=4 or yosh>=60:\n",
        "   print(\"Chipta siz uchun BEPUL!\")\n",
        "elif yosh<=18:\n",
        "   print(\"Chipta 10 000 so'm\")\n",
        "elif yosh>18:\n",
        "   print(\"Chipta 20 000 so'm\")"
      ],
      "metadata": {
        "colab": {
          "base_uri": "https://localhost:8080/"
        },
        "id": "xVOUyBEpAQLO",
        "outputId": "61302097-ef1f-4aae-e9fe-1826730c529a"
      },
      "execution_count": null,
      "outputs": [
        {
          "output_type": "stream",
          "name": "stdout",
          "text": [
            "Iltimos,yoshingizni kiriting:\n",
            ">>>78\n",
            "Chipta siz uchun BEPUL!\n"
          ]
        }
      ]
    },
    {
      "cell_type": "code",
      "source": [
        "a = int(input(\"Birinchi sonni kiriting:\\n>>>\"))\n",
        "b = int(input(\"Ikkinchi sonni kiriting:\\n>>>\"))\n",
        "if a==b:\n",
        "   print(f\"{a} soni {b} soniga teng\")\n",
        "elif a>b:\n",
        "   print(f\"{a} soni {b} sonidan katta\")\n",
        "elif b>a:\n",
        "   print(f\"{a} soni {b} sonidan kichik\")"
      ],
      "metadata": {
        "colab": {
          "base_uri": "https://localhost:8080/"
        },
        "id": "QyDuLeb-CKvX",
        "outputId": "0c3f1045-ac77-4d73-ef58-60ec268565f5"
      },
      "execution_count": null,
      "outputs": [
        {
          "output_type": "stream",
          "name": "stdout",
          "text": [
            "Birinchi sonni kiriting:\n",
            ">>>6\n",
            "Ikkinchi sonni kiriting:\n",
            ">>>1\n",
            "6 soni 1 sonidan katta\n"
          ]
        }
      ]
    },
    {
      "cell_type": "code",
      "source": [
        "mahsulotlar = ['non','qaymoq','kartoshka','pomidor','uzum','pepsi','matcha','qazi','kofe','olma']\n",
        "savatcha = []\n",
        "print(\"Savatchaga 5ta mahsulot tanlang:\\n>>>\")\n",
        "for a in range(5):\n",
        "   savatcha.append(input(f\"{a+1}-mahsulotni kiriting:\\n>>>\").lower())\n",
        "print(savatcha)\n",
        "bor_mahsulotlar = []\n",
        "mavjud_emas = []\n",
        "for mahsulot in savatcha:\n",
        "   if mahsulot in mahsulotlar:\n",
        "    bor_mahsulotlar.append(mahsulot.lower())\n",
        "   else:mavjud_emas.append(mahsulot.lower())\n",
        "print(f\"Mahsulotlar royhati:{mahsulotlar}\")\n",
        "print(f\"siz tanlagan mahsulotlar:\\n>>>{savatcha}\")\n",
        "print(f\"Bor mahsulotlar:\\n>>>{bor_mahsulotlar}\")\n",
        "print(f\"yoq mahsulotlar:\\n>>>{mavjud_emas}\")\n",
        "\n",
        "if len(mavjud_emas) == 0:\n",
        "      print(\"Siz tanlagan barcha mahsulotlar mavjud\")\n",
        "else:\n",
        "      print(f\"Quyidagi mahsulotlar mavjud emas:\\n>>{mavjud_emas}\")"
      ],
      "metadata": {
        "colab": {
          "base_uri": "https://localhost:8080/"
        },
        "id": "dO4fKstgfQJY",
        "outputId": "484be0bb-2b38-4718-b69a-c5673f33cc5c"
      },
      "execution_count": null,
      "outputs": [
        {
          "output_type": "stream",
          "name": "stdout",
          "text": [
            "Savatchaga 5ta mahsulot tanlang:\n",
            ">>>\n",
            "1-mahsulotni kiriting:\n",
            ">>>Qazi\n",
            "2-mahsulotni kiriting:\n",
            ">>>Pepsi\n",
            "3-mahsulotni kiriting:\n",
            ">>>Matcha\n",
            "4-mahsulotni kiriting:\n",
            ">>>Non\n",
            "5-mahsulotni kiriting:\n",
            ">>>Qaymoq\n",
            "['qazi', 'pepsi', 'matcha', 'non', 'qaymoq']\n",
            "Mahsulotlar royhati:['non', 'qaymoq', 'kartoshka', 'pomidor', 'uzum', 'pepsi', 'matcha', 'qazi', 'kofe', 'olma']\n",
            "siz tanlagan mahsulotlar:\n",
            ">>>['qazi', 'pepsi', 'matcha', 'non', 'qaymoq']\n",
            "Bor mahsulotlar:\n",
            ">>>['qazi', 'pepsi', 'matcha', 'non', 'qaymoq']\n",
            "yoq mahsulotlar:\n",
            ">>>[]\n",
            "Siz tanlagan barcha mahsulotlar mavjud\n"
          ]
        }
      ]
    },
    {
      "cell_type": "code",
      "source": [
        "foydalanuvchilar = ['ahmad','tolib','qamar','fazli','nihon']\n",
        "new_login = input(\"Yangi login kiriting:\\n>>>\")\n",
        "if new_login.lower() in foydalanuvchilar:\n",
        "   print(\"Login band, yangi login tanlang!\")\n",
        "else:print(\"Xush kelibsiz!\")"
      ],
      "metadata": {
        "colab": {
          "base_uri": "https://localhost:8080/"
        },
        "id": "O6oR_di5g3tj",
        "outputId": "497b5ef1-2abe-4942-d938-4963eee0bb76"
      },
      "execution_count": null,
      "outputs": [
        {
          "output_type": "stream",
          "name": "stdout",
          "text": [
            "Yangi login kiriting:\n",
            ">>>Lobar\n",
            "Xush kelibsiz!\n"
          ]
        }
      ]
    },
    {
      "cell_type": "code",
      "source": [
        "son = int(input(\"Butun son kiriting:\\n>>>\"))\n",
        "for number in range(2,11):\n",
        "   if not (son%number):\n",
        "      print(f\"{son} {number} ga qoldiqsiz bolinadi\")"
      ],
      "metadata": {
        "colab": {
          "base_uri": "https://localhost:8080/"
        },
        "id": "w-tkrkielT0B",
        "outputId": "e6493ecb-8336-4a44-9bc0-9d6db9843c8d"
      },
      "execution_count": null,
      "outputs": [
        {
          "output_type": "stream",
          "name": "stdout",
          "text": [
            "Butun son kiriting:\n",
            ">>>78\n",
            "78 2 ga qoldiqsiz bolinadi\n",
            "78 3 ga qoldiqsiz bolinadi\n",
            "78 6 ga qoldiqsiz bolinadi\n"
          ]
        }
      ]
    },
    {
      "cell_type": "code",
      "source": [
        "otam = {'ism':'Mavlutdin','t_yil':'1954','t_joy':'Samarqand viloyati'}\n",
        "print(f\"Otam ismi {otam['ism'].upper()},{otam['t_yil']}-yil,{otam['t_joy'].upper()}da tugilgan\")"
      ],
      "metadata": {
        "id": "xVk-GQZKo491",
        "colab": {
          "base_uri": "https://localhost:8080/"
        },
        "outputId": "c671506d-f3d3-40cc-d816-0cbad0116668"
      },
      "execution_count": null,
      "outputs": [
        {
          "output_type": "stream",
          "name": "stdout",
          "text": [
            "Otam ismi MAVLUTDIN,1954-yil,SAMARQAND VILOYATIda tugilgan\n"
          ]
        }
      ]
    },
    {
      "cell_type": "code",
      "source": [
        "s_taomlar = {\n",
        "    'Abdunabi':\"lag'mon\",\n",
        "    \"Ma'rifat\":'manti',\n",
        "    'Jahongir':'norin',\n",
        "    'Gavhar':'Palov',\n",
        "    'Mavluda':'lavash'\n",
        "    }\n",
        "print(f\"Abdunabining sevimli taomi - {s_taomlar['Abdunabi']}\")"
      ],
      "metadata": {
        "colab": {
          "base_uri": "https://localhost:8080/"
        },
        "id": "BeAWVLWmTsbd",
        "outputId": "0fa41e80-d720-4721-df8f-2f7c9a3c4d91"
      },
      "execution_count": null,
      "outputs": [
        {
          "output_type": "stream",
          "name": "stdout",
          "text": [
            "Abdunabining sevimli taomi - lag'mon\n"
          ]
        }
      ]
    },
    {
      "cell_type": "code",
      "source": [
        "phyton_dict = {\n",
        "   'variable':\"Ma'lumotlarni saqlash uchun ishlatiladigan nomlangan konteyner. Masalan: x = 10, bu yerda x — o‘zgaruvchi.\",\\\n",
        "   'function':\"Funksiya - Ma'lum bir vazifani bajaruvchi kod bloklari. Funksiyalar def yordamida aniqlanadi. Masalan:def greet(name): return f\\\"Hello, {name}!\\\" \",\\\n",
        "   'loop':\"Tsikl - Kodni bir necha marta takrorlash uchun ishlatiladi. Eng ko‘p ishlatiladigan tsikllar: for va while.\\n   Masalan:for i in range(5): print(i) \",\\\n",
        "   'dictionary':\"Lugat - Kalit-qiymat juftliklarini saqlash uchun ishlatiladigan ma'lumotlar tuzilmasi. Masalan:\\n   my_dict = {\\\"name\\\": \\\"Alice\\\", \\\"age\\\": 25} \",\\\n",
        "   'module':\"Modul - Oldindan yozilgan funksiyalar va sinflarni o‘z ichiga olgan fayl. Masalan, math moduli matematik amallarni bajaradi:import math print(math.sqrt(16)) \"\n",
        "}\n",
        "print(phyton_dict)\n",
        "user_ques = input(\"Phytonda tarjimasini bilmoqchi bo'lgan lugatingizni kiriting:\\>>>\").lower()\n",
        "print(phyton_dict.get(user_ques,\"Bunday soz yoq\"))"
      ],
      "metadata": {
        "id": "4GJgCGRed8fn",
        "colab": {
          "base_uri": "https://localhost:8080/"
        },
        "outputId": "912b95b3-9e95-49ac-c506-03bf7256da01"
      },
      "execution_count": null,
      "outputs": [
        {
          "output_type": "stream",
          "name": "stdout",
          "text": [
            "{'variable': \"Ma'lumotlarni saqlash uchun ishlatiladigan nomlangan konteyner. Masalan: x = 10, bu yerda x — o‘zgaruvchi.\", 'function': 'Funksiya - Ma\\'lum bir vazifani bajaruvchi kod bloklari. Funksiyalar def yordamida aniqlanadi. Masalan:def greet(name): return f\"Hello, {name}!\" ', 'loop': 'Tsikl - Kodni bir necha marta takrorlash uchun ishlatiladi. Eng ko‘p ishlatiladigan tsikllar: for va while.\\n   Masalan:for i in range(5): print(i) ', 'dictionary': 'Lugat - Kalit-qiymat juftliklarini saqlash uchun ishlatiladigan ma\\'lumotlar tuzilmasi. Masalan:\\n   my_dict = {\"name\": \"Alice\", \"age\": 25} ', 'module': 'Modul - Oldindan yozilgan funksiyalar va sinflarni o‘z ichiga olgan fayl. Masalan, math moduli matematik amallarni bajaradi:import math print(math.sqrt(16)) '}\n",
            "Phytonda tarjimasini bilmoqchi bo'lgan lugatingizni kiriting:\\>>>Module\n",
            "Modul - Oldindan yozilgan funksiyalar va sinflarni o‘z ichiga olgan fayl. Masalan, math moduli matematik amallarni bajaradi:import math print(math.sqrt(16)) \n"
          ]
        }
      ]
    },
    {
      "cell_type": "code",
      "source": [
        "phyton_dict = {\n",
        "    'integer':\"Butun son\",\n",
        "    'float':\"O'nlik son\",\n",
        "    'string':\"Matn\",\n",
        "    'list':\"Ro'yxat\",\n",
        "    'tuple':\"O'zgarmas ro'yxat\"}\n",
        "\n",
        "kalit = input(\"Kalit so\\'zni kiriting:\\n>>>\").lower()\n",
        "tarjima = phyton_dict.get(kalit)\n",
        "if tarjima == None:\n",
        "   print(\"Bunday lugat yoq\")\n",
        "else:print(tarjima)"
      ],
      "metadata": {
        "colab": {
          "base_uri": "https://localhost:8080/"
        },
        "id": "GegIn9QVLyir",
        "outputId": "052bc95a-89db-4259-87cd-a6c5e6a1da34"
      },
      "execution_count": null,
      "outputs": [
        {
          "output_type": "stream",
          "name": "stdout",
          "text": [
            "Kalit so'zni kiriting:\n",
            ">>>List\n",
            "Ro'yxat\n"
          ]
        }
      ]
    },
    {
      "cell_type": "code",
      "source": [
        "python_izohli_lugati = {\n",
        "    'integer':\"Butun son\",\n",
        "    'float':\"O'nlik son\",\n",
        "    'string':\"Matn\",\n",
        "    'list':\"Ro'yxat\",\n",
        "    'tuple':\"O'zgarmas ro'yxat\"}\n",
        "\n",
        "for key,value in python_izohli_lugati.items():\n",
        "   print(f\"{key.title()} - {value}\")"
      ],
      "metadata": {
        "colab": {
          "base_uri": "https://localhost:8080/"
        },
        "id": "FRM46_duMKY6",
        "outputId": "ea622e07-f7cb-47ff-9837-e1ef8a9a58f5"
      },
      "execution_count": null,
      "outputs": [
        {
          "output_type": "stream",
          "name": "stdout",
          "text": [
            "Integer - Butun son\n",
            "Float - O'nlik son\n",
            "String - Matn\n",
            "List - Ro'yxat\n",
            "Tuple - O'zgarmas ro'yxat\n"
          ]
        }
      ]
    },
    {
      "cell_type": "code",
      "source": [
        "davlatlar = {\n",
        "   'usa':\"vashington\",\n",
        "   'Canada':\"ottawa\",\n",
        "   'china':\"beijing\",\n",
        "   'russia':\"moscow\",\n",
        "   'saudi arabia':\"ar-riyad\",\n",
        "   'uae':\"abu-dhabi\",\n",
        "   'japan':\"tokyo\",\n",
        "   'germany':\"berlin\"\n",
        "}\n",
        "for davlat in sorted(davlatlar.keys()):\n",
        "   print(davlat.title())\n",
        "print(\"\\n>>>\")\n",
        "for poytaxt in sorted(davlatlar.values()):\n",
        "   print(poytaxt.title())"
      ],
      "metadata": {
        "colab": {
          "base_uri": "https://localhost:8080/"
        },
        "id": "KDpHVp0mNLJg",
        "outputId": "2f2fdc5e-c69f-4abe-88d8-3f6f7e229aa5"
      },
      "execution_count": null,
      "outputs": [
        {
          "output_type": "stream",
          "name": "stdout",
          "text": [
            "Canada\n",
            "China\n",
            "Germany\n",
            "Japan\n",
            "Russia\n",
            "Saudi Arabia\n",
            "Uae\n",
            "Usa\n",
            "\n",
            ">>>\n",
            "Abu-Dhabi\n",
            "Ar-Riyad\n",
            "Beijing\n",
            "Berlin\n",
            "Moscow\n",
            "Ottawa\n",
            "Tokyo\n",
            "Vashington\n"
          ]
        }
      ]
    },
    {
      "cell_type": "code",
      "source": [
        "davlatlar = {\n",
        "   'usa':\"vashington\",\n",
        "   'Canada':\"ottawa\",\n",
        "   'china':\"beijing\",\n",
        "   'russia':\"moscow\",\n",
        "   'saudi arabia':\"ar-riyad\",\n",
        "   'uae':\"abu-dhabi\",\n",
        "   'japan':\"tokyo\",\n",
        "   'germany':\"berlin\"\n",
        "}\n",
        "poy = input(\"Davlat nomini kiriting:\\n>>>\").lower()\n",
        "if poy not in davlatlar.keys():\n",
        "   print(\"Bunday malumot yo'q\")\n",
        "elif poy in davlatlar.keys():\n",
        "   print(davlatlar[poy].title())"
      ],
      "metadata": {
        "colab": {
          "base_uri": "https://localhost:8080/"
        },
        "id": "3Dg85VabQaSi",
        "outputId": "b199fc95-e08b-48ff-991b-fa75b755d8db"
      },
      "execution_count": null,
      "outputs": [
        {
          "output_type": "stream",
          "name": "stdout",
          "text": [
            "Davlat nomini kiriting:\n",
            ">>>Uzb \n",
            "Bunday malumot yo'q\n"
          ]
        }
      ]
    },
    {
      "cell_type": "code",
      "source": [
        "davlatlar = {\n",
        "   'usa':\"vashington\",\n",
        "   'Canada':\"ottawa\",\n",
        "   'china':\"beijing\",\n",
        "   'russia':\"moscow\",\n",
        "   'saudi arabia':\"ar-riyad\",\n",
        "   'uae':\"abu-dhabi\",\n",
        "   'japan':\"tokyo\",\n",
        "   'germany':\"berlin\"\n",
        "}\n",
        "\n",
        "davlat = input(\"Davlat kiriting:\\n>>>\").lower()\n",
        "poytaxt = davlatlar.get(davlat)\n",
        "if poytaxt == None:\n",
        "   print(\"Bunday malumot yoq\")\n",
        "else:print(poytaxt.upper())"
      ],
      "metadata": {
        "colab": {
          "base_uri": "https://localhost:8080/"
        },
        "id": "n3ugiHqwWM1H",
        "outputId": "157ad5e1-d904-48b4-a203-d09e5352ebee"
      },
      "execution_count": null,
      "outputs": [
        {
          "output_type": "stream",
          "name": "stdout",
          "text": [
            "Davlat kiriting:\n",
            ">>>Saudi arabia\n",
            "AR-RIYAD\n"
          ]
        }
      ]
    },
    {
      "cell_type": "code",
      "source": [
        "\n",
        "menu = {\n",
        "   'norin':35000,\n",
        "   'osh':45000,\n",
        "   'shashlik':54000,\n",
        "   'mastava':38000,\n",
        "   'chechevitsa':23000,\n",
        "   'tabaka':36000,\n",
        "   'qozon jabob':46000,\n",
        "   'tushonka':53000\n",
        "}\n",
        "\n",
        "user_bookings = []\n",
        "print(\"3ta taom buyurtma qiling:\\n>>>\")\n",
        "for n in range(3):\n",
        "   user_bookings.append(input(f\"{n+1}-taomni tanlang:\\n>>>\").lower())\n",
        "print(user_bookings)\n",
        "for taom in user_bookings:\n",
        "   if taom in menu:\n",
        "      print(f\"{taom.title()} menyuda bor\")\n",
        "   else:\n",
        "      print(f\"{taom.title()} menyuda yoq\")"
      ],
      "metadata": {
        "colab": {
          "base_uri": "https://localhost:8080/"
        },
        "id": "4hjPectiZt9C",
        "outputId": "8f3a1230-0b0c-494c-af35-ae9c7357d733"
      },
      "execution_count": null,
      "outputs": [
        {
          "output_type": "stream",
          "name": "stdout",
          "text": [
            "3ta taom buyurtma qiling:\n",
            ">>>\n",
            "1-taomni tanlang:\n",
            ">>>Osh\n",
            "2-taomni tanlang:\n",
            ">>>Norin\n",
            "3-taomni tanlang:\n",
            ">>>Shshlik\n",
            "['osh', 'norin', 'shshlik']\n",
            "Osh menyuda bor\n",
            "Norin menyuda bor\n",
            "Shshlik menyuda yoq\n"
          ]
        }
      ]
    },
    {
      "cell_type": "code",
      "source": [
        "cr7 = {\n",
        "   'ism':\"Cristiano Ronaldo\",\n",
        "   'tyil':1987,\n",
        "   'tjoy':\"Portugal\",\n",
        "   'teams':[\"Sporting\",\"Manchester United\",\"Real Madrid\"]\n",
        "}\n",
        "\n",
        "m10 = {\n",
        "   'ism':\"Leonel Messi\",\n",
        "   'tyil':1989,\n",
        "   'tjoy':\"Argentina\",\n",
        "   'teams':[\"Barcelona\",\"Psg\"]\n",
        "}\n",
        "\n",
        "nj = {\n",
        "   'ism':\"Neymar Junior\",\n",
        "   'tyil':1992,\n",
        "   'tjoy':\"Brazil\",\n",
        "   'teams':[\"Flamengo\",\"Barcelona\",\"PSG\"]\n",
        "}\n",
        "\n",
        "f_players = [cr7,m10,nj]\n",
        "for f_player in f_players:\n",
        "      print(f\"{f_player['ism'].upper()} {f_player['tyil']}-yilda {f_player['tjoy'].upper()}da tugilgan\")\n",
        "      for team in f_player['teams']:\n",
        "         print(f\"{team.upper()}\",end=' ,')\n",
        "      print(\"klublarida oynagan.\\n\")"
      ],
      "metadata": {
        "colab": {
          "base_uri": "https://localhost:8080/"
        },
        "id": "P8n4y92UI9_r",
        "outputId": "a16fd994-503d-4b0a-8649-100bbe0bab95"
      },
      "execution_count": null,
      "outputs": [
        {
          "output_type": "stream",
          "name": "stdout",
          "text": [
            "CRISTIANO RONALDO 1987-yilda PORTUGALda tugilgan\n",
            "SPORTING ,MANCHESTER UNITED ,REAL MADRID ,klublarida oynagan.\n",
            "\n",
            "LEONEL MESSI 1989-yilda ARGENTINAda tugilgan\n",
            "BARCELONA ,PSG ,klublarida oynagan.\n",
            "\n",
            "NEYMAR JUNIOR 1992-yilda BRAZILda tugilgan\n",
            "FLAMENGO ,BARCELONA ,PSG ,klublarida oynagan.\n",
            "\n"
          ]
        }
      ]
    },
    {
      "cell_type": "code",
      "source": [
        "Tanvar ={\n",
        "   'ism':\"anvar\",\n",
        "   'sevimli_kinolar':[]\n",
        "}\n",
        "\n",
        "tolib ={\n",
        "   'ism':\"tolib\",\n",
        "   'sevimli_kinolar':[]\n",
        "}\n",
        "\n",
        "ikrom ={\n",
        "   'ism':\"ikrom\",\n",
        "   'sevimli_kinolar':[]\n",
        "}\n",
        "\n",
        "names = [anvar,tolib,ikrom]\n",
        "\n",
        "for name in names:\n",
        "   print(f\"{name['ism'].upper()} aka sevimli kinolaringizni kiriting:\\n>>>\")\n",
        "\n",
        "   for n in range(3):\n",
        "      name['sevimli_kinolar'].append(input(f\"Sevimli {n+1}-kinoni kiriting:\\n>>>\").lower())\n",
        "\n",
        "   print(f\"{name['ism'].upper()}ning sevimli kinolar:\",end=' ')\n",
        "\n",
        "   for kino in name['sevimli_kinolar']:\n",
        "      print(f\"{kino.upper()}\",end=' ')\n",
        "   print(\"\\n\")"
      ],
      "metadata": {
        "colab": {
          "base_uri": "https://localhost:8080/"
        },
        "id": "VcuKlNcvLhOV",
        "outputId": "83bbb5fc-5d7b-4c35-b207-2a73ee1cc156"
      },
      "execution_count": null,
      "outputs": [
        {
          "output_type": "stream",
          "name": "stdout",
          "text": [
            "ANVAR aka sevimli kinolaringizni kiriting:\n",
            ">>>\n",
            "Sevimli 1-kinoni kiriting:\n",
            ">>>Tetris\n",
            "Sevimli 2-kinoni kiriting:\n",
            ">>>Jumanji\n",
            "Sevimli 3-kinoni kiriting:\n",
            ">>>Ishq\n",
            "ANVARning sevimli kinolar: TETRIS JUMANJI ISHQ \n",
            "\n",
            "TOLIB aka sevimli kinolaringizni kiriting:\n",
            ">>>\n",
            "Sevimli 1-kinoni kiriting:\n",
            ">>>Managers\n",
            "Sevimli 2-kinoni kiriting:\n",
            ">>>Aljabr\n",
            "Sevimli 3-kinoni kiriting:\n",
            ">>>Ijlon\n",
            "TOLIBning sevimli kinolar: MANAGERS ALJABR IJLON \n",
            "\n",
            "IKROM aka sevimli kinolaringizni kiriting:\n",
            ">>>\n",
            "Sevimli 1-kinoni kiriting:\n",
            ">>>Asraylik\n",
            "Sevimli 2-kinoni kiriting:\n",
            ">>>Abuat\n",
            "Sevimli 3-kinoni kiriting:\n",
            ">>>Bijini\n",
            "IKROMning sevimli kinolar: ASRAYLIK ABUAT BIJINI \n",
            "\n"
          ]
        }
      ]
    },
    {
      "cell_type": "code",
      "source": [
        "\n",
        "\n",
        "savol = \"Yaxshi ko'rgan kitobingizni kiriting:\\n>>>\"\n",
        "savol += \" (dasturni to\\'xtatish uchun 'stop' deb yozing! \\n>>>)\"\n",
        "\n",
        "ishora = True\n",
        "while ishora:\n",
        "   kitob = input(savol)\n",
        "   if kitob.lower() == 'stop':\n",
        "      ishora = False\n",
        "   else:\n",
        "      print(kitob.upper())\n",
        "print('Dastur tugadi')"
      ],
      "metadata": {
        "colab": {
          "base_uri": "https://localhost:8080/"
        },
        "id": "uWe8QjNaHKt1",
        "outputId": "21e1bffc-9a34-4578-a30a-4963173e5b81"
      },
      "execution_count": null,
      "outputs": [
        {
          "output_type": "stream",
          "name": "stdout",
          "text": [
            "Yaxshi ko'rgan kitobingizni kiriting:\n",
            ">>> (dasturni to'xtatish uchun 'stop' deb yozing! \n",
            ">>>)Yg\n",
            "YG\n",
            "Yaxshi ko'rgan kitobingizni kiriting:\n",
            ">>> (dasturni to'xtatish uchun 'stop' deb yozing! \n",
            ">>>)Stop\n",
            "Dastur tugadi\n"
          ]
        }
      ]
    },
    {
      "cell_type": "code",
      "source": [
        "savol = \"Yoshingizni kiriting \\n\"\n",
        "savol += \"(dasturni tutxtatish uchun 'stop' uo 'quit' kiriting \\n>>)\"\n",
        "\n",
        "while True:\n",
        "   yosh = input(savol)\n",
        "   if yosh.lower() == 'stop' or yosh.lower() == 'quit':\n",
        "      break\n",
        "\n",
        "   try:\n",
        "      yosh = int(yosh)\n",
        "   except ValueError:\n",
        "      print(\"Iltimos faqat butun son kiriting\")\n",
        "      continue\n",
        "   if yosh >0 and yosh <=7:\n",
        "       print(\"Chipta narxi 2000 som\")\n",
        "   elif yosh >7 and yosh <=18:\n",
        "       print(\"Chipta narxi 3000 som\")\n",
        "   elif yosh >18 and yosh <=65:\n",
        "       print(\"Chipta narxi 10000 som\")\n",
        "   elif yosh>65:\n",
        "       print(\"bepul\")\n",
        "   print(\"\\n\")"
      ],
      "metadata": {
        "colab": {
          "base_uri": "https://localhost:8080/"
        },
        "id": "GxHFGcaCO9Rt",
        "outputId": "a183d7d1-fa58-4b12-9cc8-c88c626d79d4"
      },
      "execution_count": null,
      "outputs": [
        {
          "name": "stdout",
          "output_type": "stream",
          "text": [
            "Yoshingizni kiriting \n",
            "(dasturni tutxtatish uchun 'stop' uo 'quit' kiriting \n",
            ">>)76\n",
            "bepul\n",
            "\n",
            "\n",
            "Yoshingizni kiriting \n",
            "(dasturni tutxtatish uchun 'stop' uo 'quit' kiriting \n",
            ">>)43\n",
            "Chipta narxi 10000 som\n",
            "\n",
            "\n",
            "Yoshingizni kiriting \n",
            "(dasturni tutxtatish uchun 'stop' uo 'quit' kiriting \n",
            ">>)Quit\n"
          ]
        }
      ]
    },
    {
      "cell_type": "code",
      "source": [
        "savol =\"Kiritilgan sonning ildizini qaytaruvchi dastur.\\n\"\n",
        "savol += \"Musbat son kiriting \"\n",
        "savol += \"(dasturni to'xtatish uchun 'exit' deb yozing): \"\n",
        "\n",
        "while True:\n",
        "    qiymat = input(savol)\n",
        "\n",
        "    if qiymat.lower() =='exit':\n",
        "        break\n",
        "    elif float(qiymat)<0:\n",
        "        continue\n",
        "    else:\n",
        "        ildiz = float(qiymat)**(0.5)\n",
        "        print(f\"{qiymat} ning ildizi {ildiz} ga teng\")"
      ],
      "metadata": {
        "colab": {
          "base_uri": "https://localhost:8080/"
        },
        "id": "5NH9ZdpTobwB",
        "outputId": "06db1d42-cb3a-4024-90f5-fa6f4f4b42be"
      },
      "execution_count": null,
      "outputs": [
        {
          "name": "stdout",
          "output_type": "stream",
          "text": [
            "Kiritilgan sonning ildizini qaytaruvchi dastur.\n",
            "Musbat son kiriting (dasturni to'xtatish uchun 'exit' deb yozing): -27\n",
            "Kiritilgan sonning ildizini qaytaruvchi dastur.\n",
            "Musbat son kiriting (dasturni to'xtatish uchun 'exit' deb yozing): 45\n",
            "45 ning ildizi 6.708203932499369 ga teng\n",
            "Kiritilgan sonning ildizini qaytaruvchi dastur.\n",
            "Musbat son kiriting (dasturni to'xtatish uchun 'exit' deb yozing): Exit\n"
          ]
        }
      ]
    },
    {
      "cell_type": "code",
      "source": [
        "orders = []\n",
        "n=1\n",
        "while True:\n",
        "   savol = f\"{n}-buyurtmani kiriting:\\n>>>\"\n",
        "   order = input(savol).lower()\n",
        "   orders.append(order)\n",
        "   javob = input(\"yana buyurtma qilasizmi? (ha/yo\\'q)\\n>>>\")\n",
        "   if javob.lower()== 'ha':\n",
        "      n += 1\n",
        "      continue\n",
        "   else:\n",
        "      break\n",
        "\n",
        "for order in orders:\n",
        "   print(order.title())"
      ],
      "metadata": {
        "colab": {
          "base_uri": "https://localhost:8080/"
        },
        "id": "Tlpzjd6C_ij2",
        "outputId": "33682ffc-8b34-48c9-afe1-c6b87abcac27"
      },
      "execution_count": null,
      "outputs": [
        {
          "output_type": "stream",
          "name": "stdout",
          "text": [
            "1-buyurtmani kiriting:\n",
            ">>>Osh\n",
            "yana buyurtma qilasizmi? (ha/yo'q)\n",
            ">>>Ha\n",
            "2-buyurtmani kiriting:\n",
            ">>>Noting \n",
            "yana buyurtma qilasizmi? (ha/yo'q)\n",
            ">>>A\n",
            "Osh\n",
            "Noting \n"
          ]
        }
      ]
    },
    {
      "cell_type": "code",
      "source": [
        "print(\"E-Bozorga Xush kelibsiz!!!\")\n",
        "r=1\n",
        "products = {}\n",
        "\n",
        "while True:\n",
        "   question = f\"{r}-mahsulot nomini kiriting:\\n>>>\"\n",
        "   product = input(question).lower()\n",
        "   price = input(f\"{product.upper()} mahsulotining narxini kiriting:\\n>>>\")\n",
        "   products[product] = int(price)\n",
        "   answer = input(\"Yana mahsulot kiritasizmi? (ha/yo\\'q)\\n>>>\")\n",
        "   if answer.lower() == 'ha':\n",
        "      r+=1\n",
        "      continue\n",
        "   else:\n",
        "      break\n",
        "\n",
        "print(\"Bazangizda quyidagilar mavjud:\")\n",
        "for product,price in products.items():\n",
        "   print(f\"{product.upper()}ning narxi - {price} so\\'m\")"
      ],
      "metadata": {
        "colab": {
          "base_uri": "https://localhost:8080/"
        },
        "id": "pO8koc59D-Vm",
        "outputId": "41bda29a-9527-4805-b6fc-9c517fcb384e"
      },
      "execution_count": null,
      "outputs": [
        {
          "output_type": "stream",
          "name": "stdout",
          "text": [
            "E-Bozorga Xush kelibsiz!!!\n",
            "1-mahsulot nomini kiriting:\n",
            ">>>Pepsi\n",
            "PEPSI mahsulotining narxini kiriting:\n",
            ">>>15000\n",
            "Yana mahsulot kiritasizmi? (ha/yo'q)\n",
            ">>>Ha\n",
            "2-mahsulot nomini kiriting:\n",
            ">>>Osh\n",
            "OSH mahsulotining narxini kiriting:\n",
            ">>>25000\n",
            "Yana mahsulot kiritasizmi? (ha/yo'q)\n",
            ">>>Ha\n",
            "3-mahsulot nomini kiriting:\n",
            ">>>Norin\n",
            "NORIN mahsulotining narxini kiriting:\n",
            ">>>17000\n",
            "Yana mahsulot kiritasizmi? (ha/yo'q)\n",
            ">>>Ha\n",
            "4-mahsulot nomini kiriting:\n",
            ">>>Kitob\n",
            "KITOB mahsulotining narxini kiriting:\n",
            ">>>46000\n",
            "Yana mahsulot kiritasizmi? (ha/yo'q)\n",
            ">>>Yo'q \n",
            "Bazangizda quyidagilar mavjud:\n",
            "PEPSIning narxi - 15000 so'm\n",
            "OSHning narxi - 25000 so'm\n",
            "NORINning narxi - 17000 so'm\n",
            "KITOBning narxi - 46000 so'm\n"
          ]
        }
      ]
    },
    {
      "cell_type": "code",
      "source": [
        "def tyil_hisob(joriy_yil=2024):\n",
        "   \"\"\"Foydalanuvchi ismi va yoshini so'rab,\n",
        "   uning tug'ilgan yilini hisoblaydigan funksiya\"\"\"\n",
        "   ism = input(\"Ismingizni kiriting:\\n>>>\")\n",
        "   yosh = int(input(\"Yoshingizni kiriting:\\n>>>\"))\n",
        "   print(f\"Hurmatli {ism.title()},Siz {joriy_yil - yosh}-yilda tugilgansiz\")\n",
        "\n",
        "tyil_hisob()"
      ],
      "metadata": {
        "colab": {
          "base_uri": "https://localhost:8080/"
        },
        "id": "8AXf1m6eDOYv",
        "outputId": "d37fbfbe-0f8d-409f-cbd5-b63df9ea2a9f"
      },
      "execution_count": null,
      "outputs": [
        {
          "output_type": "stream",
          "name": "stdout",
          "text": [
            "Ismingizni kiriting:\n",
            ">>>Bahrom\n",
            "Yoshingizni kiriting:\n",
            ">>>46\n",
            "Hurmatli Bahrom,Siz 1978-yilda tugilgansiz\n"
          ]
        }
      ]
    },
    {
      "cell_type": "code",
      "source": [
        "def kvadratkub_hisobla():\n",
        "   \"\"\"Sonni kvadrat kubini hisoblash\"\"\"\n",
        "   son = int(input(\"Son kiriting;\\n>>>\"))\n",
        "   print(f\"{son}ning kvadrati {son**2},kubi {son**3}\")\n",
        "\n",
        "kvadratkub_hisobla()"
      ],
      "metadata": {
        "colab": {
          "base_uri": "https://localhost:8080/"
        },
        "id": "Ydlf-nDhGXe3",
        "outputId": "85521ad8-3596-4bcb-bd0b-0e6eb017b988"
      },
      "execution_count": null,
      "outputs": [
        {
          "output_type": "stream",
          "name": "stdout",
          "text": [
            "Son kiriting;\n",
            ">>>8\n",
            "8ning kvadrati 64,kubi 512\n"
          ]
        }
      ]
    },
    {
      "cell_type": "code",
      "source": [
        "def son_solishtir():\n",
        "   \"\"\"IKKI SONNI SOLISHTIRUVCHI\"\"\"\n",
        "   n1 = int(input(\"1-sonni kiriting:\\n>>>\"))\n",
        "   n2 = int(input(\"2-sonni kiriting:\\n>>>\"))\n",
        "   if n1>n2:print(f\"{n1} {n2}dan katta\")\n",
        "   elif n1<n2:print(f\"{n1} {n2}dan kichik\")\n",
        "   else:print(\"Sonlar teng\")\n",
        "\n",
        "son_solishtir()"
      ],
      "metadata": {
        "colab": {
          "base_uri": "https://localhost:8080/"
        },
        "id": "uBhXIcMHIfaM",
        "outputId": "de2206c2-1a91-4a02-b230-97d994b17c2c"
      },
      "execution_count": null,
      "outputs": [
        {
          "output_type": "stream",
          "name": "stdout",
          "text": [
            "1-sonni kiriting:\n",
            ">>>82\n",
            "2-sonni kiriting:\n",
            ">>>83\n",
            "82 83dan kichik\n"
          ]
        }
      ]
    },
    {
      "cell_type": "code",
      "source": [
        "def qoldiqsiz_bolinish():\n",
        "   n = int(input(\"Son kiriting:\\n>>>\"))\n",
        "   for r in range(1,11):\n",
        "      if r%n == 0:\n",
        "         print(r,end=' ')\n",
        "\n",
        "qoldiqsiz_bolinish()"
      ],
      "metadata": {
        "colab": {
          "base_uri": "https://localhost:8080/"
        },
        "id": "rSnYrt5rKR1x",
        "outputId": "4bcf502c-6a9c-414f-b2db-a683523c9969"
      },
      "execution_count": null,
      "outputs": [
        {
          "output_type": "stream",
          "name": "stdout",
          "text": [
            "Son kiriting:\n",
            ">>>4\n",
            "4 8 "
          ]
        }
      ]
    },
    {
      "cell_type": "code",
      "source": [
        "def oraliq(min=0, max=None, step=1):\n",
        "    if max is None:\n",
        "        raise ValueError(\"You must provide a value for 'max'.\")\n",
        "\n",
        "    sonlar = []\n",
        "    while min < max:\n",
        "        sonlar.append(min)\n",
        "        min += step\n",
        "    return sonlar\n",
        "\n",
        "print(oraliq(10,16))\n",
        "print(oraliq(1,11,2))\n",
        "print(oraliq(max=11))"
      ],
      "metadata": {
        "colab": {
          "base_uri": "https://localhost:8080/"
        },
        "id": "3ZxNV_e0UOa0",
        "outputId": "bebc64de-dd34-4cef-a9d3-87f589564f71"
      },
      "execution_count": null,
      "outputs": [
        {
          "output_type": "stream",
          "name": "stdout",
          "text": [
            "[10, 11, 12, 13, 14, 15]\n",
            "[1, 3, 5, 7, 9]\n",
            "[0, 1, 2, 3, 4, 5, 6, 7, 8, 9, 10]\n"
          ]
        }
      ]
    },
    {
      "cell_type": "code",
      "source": [
        "def user_info(ism,familiya,tyil,tjoy,email='',telraqam='',joriyyil=2024):\n",
        "   \"\"\"Foydanaluvchidan ismi, familiyasi, tug'ilgan yili,\n",
        "   tug'ilgan joyi, email manzili va telefon raqamini qabul qilib,\n",
        "   lug'at ko'rinishida qaytaruvchi funksiya yozing.\n",
        "   Lug'atda foydalanuvchu yoshi ham bo'lsin. Ba'zi argumentlarni kiritishni ixtiyoriy qiling\n",
        "   (masalan, tel.raqam, el.manzil)\"\"\"\n",
        "   user = {\n",
        "   'ism':ism,\n",
        "   'familiya':familiya,\n",
        "   'tyil':tyil,\n",
        "   'tjoy':tjoy,\n",
        "   'email':email,\n",
        "   'telraqam':telraqam,\n",
        "   'yosh':joriyyil-tyil\n",
        "   }\n",
        "   return user\n",
        "\n",
        "talaba = user_info('ryan','giggs',1984,'wales')\n",
        "talaba1 = user_info('wayne','rooney',1993,'england','rooney@gmail.com')\n",
        "talaba2 = user_info('michael','carrick',1985,'ireland',telraqam=123457900)\n",
        "players = [talaba,talaba1,talaba2]\n",
        "for talaba in players:\n",
        "   n=talaba['ism'].upper()\n",
        "   sn=talaba['familiya'].upper()\n",
        "   ty=talaba['tyil']\n",
        "   tj=talaba['tjoy'].title()\n",
        "   age=talaba['yosh']\n",
        "   if talaba['email']:\n",
        "      e_mail = talaba['email']\n",
        "   else:e_mail=\"Nomalum\"\n",
        "   if talaba['telraqam']:\n",
        "      teln=talaba['telraqam']\n",
        "   else:teln=\"Nomalum\"\n",
        "   print(f\"{n} {sn} - {ty}da {tj}da tug'ilgan, \\n hozirda {age} yoshda.\\nEmaili:{e_mail},Telefon raqami - {teln}\")"
      ],
      "metadata": {
        "colab": {
          "base_uri": "https://localhost:8080/"
        },
        "id": "3d_FZCKzj1z6",
        "outputId": "5a729a9c-9b1d-4d91-bab9-6cdc1debb56c"
      },
      "execution_count": null,
      "outputs": [
        {
          "output_type": "stream",
          "name": "stdout",
          "text": [
            "RYAN GIGGS - 1984da Walesda tug'ilgan, \n",
            " hozirda 40 yoshda.\n",
            "Emaili:Nomalum,Telefon raqami - Nomalum\n",
            "WAYNE ROONEY - 1993da Englandda tug'ilgan, \n",
            " hozirda 31 yoshda.\n",
            "Emaili:rooney@gmail.com,Telefon raqami - Nomalum\n",
            "MICHAEL CARRICK - 1985da Irelandda tug'ilgan, \n",
            " hozirda 39 yoshda.\n",
            "Emaili:Nomalum,Telefon raqami - 123457900\n"
          ]
        }
      ]
    },
    {
      "cell_type": "code",
      "source": [
        "def user_info(ism,familiya,tyil,tjoy,email='',telraqam='',joriyyil=2024):\n",
        "   \"\"\"Foydanaluvchidan ismi, familiyasi, tug'ilgan yili,\n",
        "   tug'ilgan joyi, email manzili va telefon raqamini qabul qilib,\n",
        "   lug'at ko'rinishida qaytaruvchi funksiya yozing.\n",
        "   Lug'atda foydalanuvchu yoshi ham bo'lsin. Ba'zi argumentlarni kiritishni ixtiyoriy qiling\n",
        "   (masalan, tel.raqam, el.manzil)\n",
        "   Yuqoridagi funksiyani while yordamida bir necha bor chaqiring,\n",
        "   va mijozlar degan ro'yxatni shakllantiring.\n",
        "   Ro'yxatdagi mijozlar haqidagi ma'lumotni konsolga chiqaring.\n",
        "   \"\"\"\n",
        "   user = {\n",
        "   'ism':ism,\n",
        "   'familiya':familiya,\n",
        "   'tyil':tyil,\n",
        "   'tjoy':tjoy,\n",
        "   'email':email,\n",
        "   'telraqam':telraqam,\n",
        "   'yosh':joriyyil-tyil\n",
        "   }\n",
        "   return user\n",
        "\n",
        "#create while loop which is collect klient info\n",
        "mijozlar = []\n",
        "while True:\n",
        "   print(\"Klient malumotlarini kiriting:\\n>>>\")\n",
        "   m_ism = input(\"Mijoz ismini kiriting:\\n>>>\").lower()\n",
        "   m_familiya = input(\"Mijoz familiyasini kiriting:\\n>>>\").lower()\n",
        "   m_tyil = int(input(\"Mijoz tugilgan yilini kiriting:\\n>>>\"))\n",
        "   m_tjoy = input(\"Mijoz tugilgan joyini kiriting:\\n>>>\").lower()\n",
        "   m_email = input(\"Mijoz emailini kiriting:\\n>>>\").lower()\n",
        "   m_telraqam = input(\"Mijoz tel raqamini kiriting:\\n>>>\")\n",
        "   mijozlar.append(user_info(m_ism,m_familiya,m_tyil,m_tjoy,m_email,m_telraqam))\n",
        "   javob = input(\"yana mijoz qoshasizmi?(ha/yo'q)\\n>>>\").lower()\n",
        "   if javob != 'ha':\n",
        "      break\n",
        "   else: continue\n",
        "\n",
        "print(\"\\n\\nBizning mijozlar:\\n>>>\")\n",
        "n = len(mijozlar)\n",
        "for r in range(n):\n",
        "   n=mijozlar[r]['ism'].upper()\n",
        "   sn=mijozlar[r]['familiya'].upper()\n",
        "   ty=mijozlar[r]['tyil']\n",
        "   tj=mijozlar[r]['tjoy'].title()\n",
        "   age=mijozlar[r]['yosh']\n",
        "   e_mail = mijozlar[r]['email']\n",
        "   teln=mijozlar[r]['telraqam']\n",
        "   print(f\"{n} {sn} - {ty}da {tj}da tug'ilgan. \\nHozirda {age} yoshda.\\nEmaili:{e_mail},Telefon raqami - {teln}\")"
      ],
      "metadata": {
        "colab": {
          "base_uri": "https://localhost:8080/"
        },
        "id": "oZbVYNk8n6aB",
        "outputId": "de8e138b-826f-4a35-8e01-d6b1173e3f49"
      },
      "execution_count": null,
      "outputs": [
        {
          "output_type": "stream",
          "name": "stdout",
          "text": [
            "Klient malumotlarini kiriting:\n",
            ">>>\n",
            "Mijoz ismini kiriting:\n",
            ">>>Tolib\n",
            "Mijoz familiyasini kiriting:\n",
            ">>>Ismoilov\n",
            "Mijoz tugilgan yilini kiriting:\n",
            ">>>1986\n",
            "Mijoz tugilgan joyini kiriting:\n",
            ">>>Surhondaryo\n",
            "Mijoz emailini kiriting:\n",
            ">>>Yoq\n",
            "Mijoz tel raqamini kiriting:\n",
            ">>>1374899\n",
            "yana mijoz qoshasizmi?(ha/yo'q)\n",
            ">>>Ha\n",
            "Klient malumotlarini kiriting:\n",
            ">>>\n",
            "Mijoz ismini kiriting:\n",
            ">>>Siroj\n",
            "Mijoz familiyasini kiriting:\n",
            ">>>Mannopov\n",
            "Mijoz tugilgan yilini kiriting:\n",
            ">>>1997\n",
            "Mijoz tugilgan joyini kiriting:\n",
            ">>>Jizzax\n",
            "Mijoz emailini kiriting:\n",
            ">>>Siroj@gmail.com\n",
            "Mijoz tel raqamini kiriting:\n",
            ">>>147994\n",
            "yana mijoz qoshasizmi?(ha/yo'q)\n",
            ">>>Yoq\n",
            "\n",
            "\n",
            "Bizning mijozlar:\n",
            ">>>\n",
            "TOLIB ISMOILOV - 1986da Surhondaryoda tug'ilgan. \n",
            "Hozirda 38 yoshda.\n",
            "Emaili:yoq,Telefon raqami - 1374899\n",
            "SIROJ MANNOPOV - 1997da Jizzaxda tug'ilgan. \n",
            "Hozirda 27 yoshda.\n",
            "Emaili:siroj@gmail.com,Telefon raqami - 147994\n"
          ]
        }
      ]
    },
    {
      "cell_type": "code",
      "source": [
        "def kattason_top(a,b,c):\n",
        "   \"\"\"Write a function that takes three numbers\n",
        "   as input and returns the largest one.\"\"\"\n",
        "   if a>b and a>c:return a\n",
        "   elif b>a and b>c:return b\n",
        "   elif c>a and c>b:return c\n",
        "\n",
        "print(kattason_top(12,2,9))"
      ],
      "metadata": {
        "colab": {
          "base_uri": "https://localhost:8080/"
        },
        "id": "b2sIufM8wglb",
        "outputId": "a0ddd410-5a1c-4cc6-b7ab-5e502f1ddcdd"
      },
      "execution_count": null,
      "outputs": [
        {
          "output_type": "stream",
          "name": "stdout",
          "text": [
            "12\n"
          ]
        }
      ]
    },
    {
      "cell_type": "code",
      "source": [
        "def circle_info():\n",
        "   \"\"\"Write a function that takes the radius of a circle\n",
        "   from the user and returns its radius, diameter, perimeter,\n",
        "   and area in the form of a dictionary.\"\"\"\n",
        "   radius = float(input(\"Aylana radiusini kiriting:\\n>>>\"))\n",
        "   PI=3.1416\n",
        "\n",
        "   circle={\n",
        "      'radius':radius,\n",
        "      'diameter':2*radius,\n",
        "      'perimeter':2*PI*radius,\n",
        "      'area':PI*(radius**2)\n",
        "      }\n",
        "\n",
        "\n",
        "   print(f\"{circle['radius']} li aylananing:\")\n",
        "   print(f\"Diametri {circle['diameter']},Perimetri {circle['perimeter']},Yuzi {circle['area']} ga teng\")\n",
        "\n",
        "circle_info()"
      ],
      "metadata": {
        "colab": {
          "base_uri": "https://localhost:8080/"
        },
        "id": "D2mv2gFgAWZ-",
        "outputId": "65c6071b-f22c-4768-8066-04891a26a33b"
      },
      "execution_count": null,
      "outputs": [
        {
          "output_type": "stream",
          "name": "stdout",
          "text": [
            "Aylana radiusini kiriting:\n",
            ">>>3\n",
            "3.0 li aylananing:\n",
            "Diametri 6.0,Perimetri 18.8496,Yuzi 28.2744 ga teng\n"
          ]
        }
      ]
    },
    {
      "cell_type": "code",
      "source": [
        "def get_primes(start,end):\n",
        "   \"\"\"Write a function that returns a list of prime numbers within a given range\n",
        "   (prime numbers are positive integers greater than 1\n",
        "   that are only divisible by 1 and themselves without a remainder).\"\"\"\n",
        "   given_range = list(range(start,end+1))\n",
        "   primes=[]\n",
        "   for num in given_range:\n",
        "      if num > 1:\n",
        "         for i in range(2,int(num**0.5)+1):\n",
        "            if num%i==0:break\n",
        "         else:\n",
        "            primes.append(num)\n",
        "   return primes\n",
        "\n",
        "print(get_primes(1,50))"
      ],
      "metadata": {
        "colab": {
          "base_uri": "https://localhost:8080/"
        },
        "id": "tHUMhOapT5TL",
        "outputId": "6fc0c74e-1865-4b2b-a18a-8da3290dfe8f"
      },
      "execution_count": null,
      "outputs": [
        {
          "output_type": "stream",
          "name": "stdout",
          "text": [
            "[2, 3, 5, 7, 11, 13, 17, 19, 23, 29, 31, 37, 41, 43, 47]\n"
          ]
        }
      ]
    },
    {
      "cell_type": "code",
      "source": [
        "def get_fichi_list(length):\n",
        "   \"\"\"Write a function that takes a number\n",
        "   as input and returns a list of Fibonacci sequence numbers of that length.\n",
        "\n",
        "   Definition: A sequence in which each term is\n",
        "   the sum of the two preceding terms is called the Fibonacci sequence.\n",
        "   The first term is usually taken as 1.\n",
        "   Example: 1, 1, 2, 3, 5, 8, 13, 21, 34, 55, ...\"\"\"\n",
        "   if length <=0:\n",
        "      return []\n",
        "   if length ==1:\n",
        "      return [1]\n",
        "\n",
        "   fibonacci_list = [1]\n",
        "\n",
        "   n=1\n",
        "\n",
        "   while True:\n",
        "      fibonacci_list.append(n)\n",
        "      n=fibonacci_list[-2]+fibonacci_list[-1]\n",
        "      if len(fibonacci_list)<=length-1:\n",
        "         continue\n",
        "      else:break\n",
        "   return fibonacci_list\n",
        "\n",
        "print(get_fichi_list(2))"
      ],
      "metadata": {
        "colab": {
          "base_uri": "https://localhost:8080/"
        },
        "id": "vzd-BLXa-RE1",
        "outputId": "3bd7e6ef-5c1e-4825-95bc-9a83f3e57905"
      },
      "execution_count": null,
      "outputs": [
        {
          "output_type": "stream",
          "name": "stdout",
          "text": [
            "[1, 1]\n"
          ]
        }
      ]
    },
    {
      "cell_type": "code",
      "source": [
        "def katta_xarf(names):\n",
        "   \"\"\"Write a function that takes a list of\n",
        "   strings and converts the first letter of\n",
        "   each string in the list to uppercase.\"\"\"\n",
        "   cap_list=[]\n",
        "   for name in names:\n",
        "      cap_list.append(name.capitalize())\n",
        "   return cap_list\n",
        "\n",
        "ismlar =['ali','hasan','vali']\n",
        "cap_let=katta_xarf(ismlar)\n",
        "print(ismlar)\n",
        "print(cap_let)"
      ],
      "metadata": {
        "colab": {
          "base_uri": "https://localhost:8080/"
        },
        "id": "3xw-vdTgfapV",
        "outputId": "c0a5c750-6b47-4b77-e7ac-15c46cf138c3"
      },
      "execution_count": null,
      "outputs": [
        {
          "output_type": "stream",
          "name": "stdout",
          "text": [
            "['ali', 'hasan', 'vali']\n",
            "['Ali', 'Hasan', 'Vali']\n"
          ]
        }
      ]
    },
    {
      "cell_type": "code",
      "source": [
        "def bahola(names):\n",
        "    ismlar=names[:]\n",
        "    baholar = {}\n",
        "\n",
        "    for ism in ismlar:\n",
        "       baho = input(f\"Talaba {ism.title()}ning bahosini kiriting: \\n>>>\")\n",
        "       baholar[ism]=baho\n",
        "    return baholar\n",
        "\n",
        "talabalar = ['ali', 'vali', 'hasan', 'husan']\n",
        "baholar = bahola(talabalar)\n",
        "print(baholar)\n",
        "print(talabalar)"
      ],
      "metadata": {
        "colab": {
          "base_uri": "https://localhost:8080/"
        },
        "id": "1EKcPD7XruPN",
        "outputId": "f38bd841-a588-4fff-e69b-f26c64a326e9"
      },
      "execution_count": null,
      "outputs": [
        {
          "output_type": "stream",
          "name": "stdout",
          "text": [
            "Talaba Alining bahosini kiriting: \n",
            ">>>4\n",
            "Talaba Valining bahosini kiriting: \n",
            ">>>6\n",
            "Talaba Hasanning bahosini kiriting: \n",
            ">>>7\n",
            "Talaba Husanning bahosini kiriting: \n",
            ">>>6\n",
            "{'ali': '4', 'vali': '6', 'hasan': '7', 'husan': '6'}\n",
            "['ali', 'vali', 'hasan', 'husan']\n"
          ]
        }
      ]
    },
    {
      "cell_type": "code",
      "source": [
        "def katta_harf(matnlar):\n",
        "    for i in range(len(matnlar)):\n",
        "        matnlar[i] = matnlar[i].title()\n",
        "\n",
        "\n",
        "ismlar = [\"ali\", \"vali\", \"hasan\", \"husan\"]\n",
        "katta_harf(ismlar)\n",
        "print(ismlar)"
      ],
      "metadata": {
        "id": "30CT5vq4uWQz",
        "outputId": "2ae2e243-d225-438f-e1a4-8243550f2f64",
        "colab": {
          "base_uri": "https://localhost:8080/"
        }
      },
      "execution_count": null,
      "outputs": [
        {
          "output_type": "stream",
          "name": "stdout",
          "text": [
            "['Ali', 'Vali', 'Hasan', 'Husan']\n"
          ]
        }
      ]
    },
    {
      "cell_type": "code",
      "source": [
        "def kopaytir(*sonlar):\n",
        "   \"\"\"Write a function that takes an\n",
        "   arbitrary number of numbers as input and returns their product\"\"\"\n",
        "   kopaytma=1\n",
        "   for son in sonlar:\n",
        "      kopaytma=kopaytma*son\n",
        "   return kopaytma\n",
        "\n",
        "print(kopaytir(3,5,7))\n",
        "print(kopaytir(2*4))\n",
        "print(kopaytir(2))"
      ],
      "metadata": {
        "colab": {
          "base_uri": "https://localhost:8080/"
        },
        "id": "Uukec5E9peOf",
        "outputId": "c5762992-7013-4bb4-83ea-25f57a31bde7"
      },
      "execution_count": null,
      "outputs": [
        {
          "output_type": "stream",
          "name": "stdout",
          "text": [
            "105\n",
            "8\n",
            "2\n"
          ]
        }
      ]
    },
    {
      "cell_type": "code",
      "source": [
        "def student_info(first_n,last_n,**student_infos):\n",
        "   \"\"\"Write a function that returns student information\n",
        "   as a dictionary. The student's first and last name should be required arguments,\n",
        "   while other details can be provided optionally in any quantity.\"\"\"\n",
        "   student_infos['first_name'] = first_n\n",
        "   student_infos['last_name'] = last_n\n",
        "   return student_infos\n",
        "\n",
        "talaba1 = student_info('John','wick',country='usa')\n",
        "talaba2 = student_info('William','Shakespeare',age=23)\n",
        "print(talaba1)\n",
        "print(talaba2)"
      ],
      "metadata": {
        "colab": {
          "base_uri": "https://localhost:8080/"
        },
        "id": "-KcynuhNtRDa",
        "outputId": "16e77b31-3aa9-4296-f265-7557c6be72bc"
      },
      "execution_count": null,
      "outputs": [
        {
          "output_type": "stream",
          "name": "stdout",
          "text": [
            "{'country': 'usa', 'first_name': 'John', 'last_name': 'wick'}\n",
            "{'age': 23, 'first_name': 'William', 'last_name': 'Shakespeare'}\n"
          ]
        }
      ]
    }
  ],
  "metadata": {
    "colab": {
      "provenance": [],
      "toc_visible": true,
      "authorship_tag": "ABX9TyMbioNB/n6RRTvdcGqdYXmk",
      "include_colab_link": true
    },
    "kernelspec": {
      "display_name": "Python 3",
      "name": "python3"
    },
    "language_info": {
      "name": "python"
    }
  },
  "nbformat": 4,
  "nbformat_minor": 0
}