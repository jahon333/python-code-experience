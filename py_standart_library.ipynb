{
  "nbformat": 4,
  "nbformat_minor": 0,
  "metadata": {
    "colab": {
      "provenance": [],
      "authorship_tag": "ABX9TyNsDzZ+ad85e/4sqJqh1I1s",
      "include_colab_link": true
    },
    "kernelspec": {
      "name": "python3",
      "display_name": "Python 3"
    },
    "language_info": {
      "name": "python"
    }
  },
  "cells": [
    {
      "cell_type": "markdown",
      "metadata": {
        "id": "view-in-github",
        "colab_type": "text"
      },
      "source": [
        "<a href=\"https://colab.research.google.com/github/jahon333/python-code-experience/blob/main/py_standart_library.ipynb\" target=\"_parent\"><img src=\"https://colab.research.google.com/assets/colab-badge.svg\" alt=\"Open In Colab\"/></a>"
      ]
    },
    {
      "cell_type": "markdown",
      "source": [
        "#Python Standard library lesson taks"
      ],
      "metadata": {
        "id": "Opiyj_UIgACg"
      }
    },
    {
      "cell_type": "markdown",
      "source": [
        "\"\"\"\n",
        "25.02.2025\n",
        " created by jahon333\n",
        "\"\"\"\n",
        "#tasks:\n",
        "1)Bugungi sanadan boshlab 2 hafta farq bilan 10 ta sanani konsolga chiqaring\n",
        "\n",
        "2)Ramazon va qurbon hayitigacha qolgan kunlarni konsolga chiqaring\n",
        "\n",
        "3)Tug'ilgan kuningizdan bugungi sanagacha qancha yil, oy, kun o'tganini qaytaruvchi funksiya yozing\n",
        "\n",
        "4)Foydalanuvchidan telefon raqamini kiritishni so'rang. Kiritlgan qiymatni andoza yordamida tekshiring\n",
        "\n",
        "5)Berilgan matndan veb sahifa manzilini ajratib olyuvchi funksiya yozing. Quyidagi matndan namuna sifatida foydalanishingiz mumkin:"
      ],
      "metadata": {
        "id": "c38vo5Tmfizi"
      }
    },
    {
      "cell_type": "code",
      "source": [
        "\"\"\" 1-task \"\"\"\n",
        "import datetime as dt\n",
        "today = dt.date.today()\n",
        "two_week = dt.timedelta(weeks=2)\n",
        "\n",
        "for n in range(11):\n",
        "   print(today)\n",
        "   today += two_week"
      ],
      "metadata": {
        "colab": {
          "base_uri": "https://localhost:8080/"
        },
        "id": "qN1Ur4DMfx9f",
        "outputId": "93309174-8825-49a0-a0d0-9c2a93c77b6d"
      },
      "execution_count": 23,
      "outputs": [
        {
          "output_type": "stream",
          "name": "stdout",
          "text": [
            "2025-02-25\n",
            "2025-03-11\n",
            "2025-03-25\n",
            "2025-04-08\n",
            "2025-04-22\n",
            "2025-05-06\n",
            "2025-05-20\n",
            "2025-06-03\n",
            "2025-06-17\n",
            "2025-07-01\n",
            "2025-07-15\n"
          ]
        }
      ]
    },
    {
      "cell_type": "code",
      "source": [
        "\"\"\" 2-task \"\"\"\n",
        "\n",
        "import datetime as dt\n",
        "today = dt.date.today()\n",
        "ramazon_h = dt.date(2025,3,30)\n",
        "qurbon_h = dt.date(2025,5,13)\n",
        "\n",
        "farq1 = ramazon_h - today\n",
        "farq2 = qurbon_h - today\n",
        "\n",
        "print(f\"Ramazon hayitiga {farq1.days} kun qoldi\")\n",
        "print(f\"Qurbon hayitiga {farq2.days} kun qoldi\")"
      ],
      "metadata": {
        "colab": {
          "base_uri": "https://localhost:8080/"
        },
        "id": "FIE_ik3Aoaqc",
        "outputId": "80b473f0-b06f-4365-8195-385a031d97b7"
      },
      "execution_count": 34,
      "outputs": [
        {
          "output_type": "stream",
          "name": "stdout",
          "text": [
            "Ramazon hayitiga 33 kun qoldi\n",
            "Qurbon hayitiga 77 kun qoldi\n"
          ]
        }
      ]
    },
    {
      "cell_type": "code",
      "source": [
        "\"\"\" 3-task \"\"\"\n",
        "import datetime as dt\n",
        "today = dt.date.today()\n",
        "birt_day = dt.date(2000,10,3)\n",
        "farq = today - birt_day\n",
        "print(farq)"
      ],
      "metadata": {
        "colab": {
          "base_uri": "https://localhost:8080/"
        },
        "id": "mOLzb6vJqAmn",
        "outputId": "da82027f-cecc-493b-9441-4ad8d2c08381"
      },
      "execution_count": 36,
      "outputs": [
        {
          "output_type": "stream",
          "name": "stdout",
          "text": [
            "8911 days, 0:00:00\n"
          ]
        }
      ]
    },
    {
      "cell_type": "code",
      "source": [
        "\"\"\" 4-task \"\"\"\n",
        "import re\n",
        "\n",
        "andoza = \"^[\\+]?[(]?[0-9]{3}[)]?[-\\s\\.]?[0-9]{3}[-\\s\\.]?[0-9]{4,6}$\"\n",
        "while True:\n",
        "   tel_num = input(\"Telefon raqam kiriting:\\n>>>\")\n",
        "   if re.match(andoza,tel_num):\n",
        "      print(\"qabul qilindi!\")\n",
        "      break\n",
        "   else:\n",
        "      print(\"qaytadan kiriting\")"
      ],
      "metadata": {
        "colab": {
          "base_uri": "https://localhost:8080/"
        },
        "id": "ERoaC_YcxO5e",
        "outputId": "9180bb84-f304-4c3a-8861-e495e76649a4"
      },
      "execution_count": 37,
      "outputs": [
        {
          "output_type": "stream",
          "name": "stdout",
          "text": [
            "Telefon raqam kiriting:\n",
            ">>>+1349\n",
            "qaytadan kiriting\n",
            "Telefon raqam kiriting:\n",
            ">>>+28495959595995\n",
            "qaytadan kiriting\n",
            "Telefon raqam kiriting:\n",
            ">>>+998900431033\n",
            "qabul qilindi!\n"
          ]
        }
      ]
    },
    {
      "cell_type": "code",
      "source": [
        "\"\"\" 5-task \"\"\"\n",
        "import re\n",
        "text = \"\"\"Assalom alaykum hurmatli do'stlar. Navbatdagi darsimiz YouTubega yuklandi: https://youtu.be/vsxJPRLXpgI Ushbu darsimizda unittest moduli yordamida klasslarning xususiyatlar va metodlarini tekshiruvchi dastur yozishni o'rganamiz. Bugungi dars manzili: https://python.sariq.dev/testing/37-klass-test\"\"\"\n",
        "andoza = \"https?:\\/\\/(www\\.)?[-a-zA-Z0-9@:%._\\+~#=]{1,256}\\.[a-zA-Z0-9()]{1,6}\\b([-a-zA-Z0-9()!@:%_\\+.~#?&\\/\\/=]*)\"\n",
        "web= re.findall(andoza,text)\n",
        "print(web)"
      ],
      "metadata": {
        "colab": {
          "base_uri": "https://localhost:8080/"
        },
        "id": "OxCfswQry7wz",
        "outputId": "efbc4b0d-45d6-4e65-e757-3ebab5d5ff66"
      },
      "execution_count": 43,
      "outputs": [
        {
          "output_type": "stream",
          "name": "stdout",
          "text": [
            "[]\n"
          ]
        }
      ]
    }
  ]
}